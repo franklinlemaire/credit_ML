{
 "cells": [
  {
   "cell_type": "code",
   "execution_count": 1,
   "id": "4907675e",
   "metadata": {},
   "outputs": [
    {
     "name": "stderr",
     "output_type": "stream",
     "text": [
      "\n",
      "Usage:   \n",
      "  pip install [options] <requirement specifier> [package-index-options] ...\n",
      "  pip install [options] -r <requirements file> [package-index-options] ...\n",
      "  pip install [options] [-e] <vcs project url> ...\n",
      "  pip install [options] [-e] <local project path> ...\n",
      "  pip install [options] <archive url/path> ...\n",
      "\n",
      "no such option: -u\n"
     ]
    }
   ],
   "source": [
    "!pip install -u jupyter"
   ]
  },
  {
   "cell_type": "code",
   "execution_count": 2,
   "id": "baf31998",
   "metadata": {},
   "outputs": [
    {
     "name": "stdout",
     "output_type": "stream",
     "text": [
      "Note: you may need to restart the kernel to use updated packages.\n"
     ]
    },
    {
     "name": "stderr",
     "output_type": "stream",
     "text": [
      "ERROR: unknown command \"update\"\n",
      "\n"
     ]
    }
   ],
   "source": [
    "pip update jupyter"
   ]
  },
  {
   "cell_type": "code",
   "execution_count": 3,
   "id": "70ee37fe",
   "metadata": {},
   "outputs": [
    {
     "name": "stdout",
     "output_type": "stream",
     "text": [
      "Requirement already satisfied: jupyter in c:\\users\\lenovo\\anaconda3\\lib\\site-packages (1.0.0)\n",
      "Collecting jupyter\n",
      "  Obtaining dependency information for jupyter from https://files.pythonhosted.org/packages/38/64/285f20a31679bf547b75602702f7800e74dbabae36ef324f716c02804753/jupyter-1.1.1-py2.py3-none-any.whl.metadata\n",
      "  Downloading jupyter-1.1.1-py2.py3-none-any.whl.metadata (2.0 kB)\n",
      "Requirement already satisfied: notebook in c:\\users\\lenovo\\anaconda3\\lib\\site-packages (from jupyter) (6.5.4)\n",
      "Requirement already satisfied: jupyter-console in c:\\users\\lenovo\\anaconda3\\lib\\site-packages (from jupyter) (6.6.3)\n",
      "Requirement already satisfied: nbconvert in c:\\users\\lenovo\\anaconda3\\lib\\site-packages (from jupyter) (6.5.4)\n",
      "Requirement already satisfied: ipykernel in c:\\users\\lenovo\\anaconda3\\lib\\site-packages (from jupyter) (6.25.0)\n",
      "Requirement already satisfied: ipywidgets in c:\\users\\lenovo\\anaconda3\\lib\\site-packages (from jupyter) (8.0.4)\n",
      "Requirement already satisfied: jupyterlab in c:\\users\\lenovo\\anaconda3\\lib\\site-packages (from jupyter) (3.6.3)\n",
      "Requirement already satisfied: comm>=0.1.1 in c:\\users\\lenovo\\anaconda3\\lib\\site-packages (from ipykernel->jupyter) (0.1.2)\n",
      "Requirement already satisfied: debugpy>=1.6.5 in c:\\users\\lenovo\\anaconda3\\lib\\site-packages (from ipykernel->jupyter) (1.6.7)\n",
      "Requirement already satisfied: ipython>=7.23.1 in c:\\users\\lenovo\\anaconda3\\lib\\site-packages (from ipykernel->jupyter) (8.15.0)\n",
      "Requirement already satisfied: jupyter-client>=6.1.12 in c:\\users\\lenovo\\anaconda3\\lib\\site-packages (from ipykernel->jupyter) (7.4.9)\n",
      "Requirement already satisfied: jupyter-core!=5.0.*,>=4.12 in c:\\users\\lenovo\\anaconda3\\lib\\site-packages (from ipykernel->jupyter) (5.3.0)\n",
      "Requirement already satisfied: matplotlib-inline>=0.1 in c:\\users\\lenovo\\anaconda3\\lib\\site-packages (from ipykernel->jupyter) (0.1.6)\n",
      "Requirement already satisfied: nest-asyncio in c:\\users\\lenovo\\anaconda3\\lib\\site-packages (from ipykernel->jupyter) (1.5.6)\n",
      "Requirement already satisfied: packaging in c:\\users\\lenovo\\anaconda3\\lib\\site-packages (from ipykernel->jupyter) (23.1)\n",
      "Requirement already satisfied: psutil in c:\\users\\lenovo\\anaconda3\\lib\\site-packages (from ipykernel->jupyter) (5.9.0)\n",
      "Requirement already satisfied: pyzmq>=20 in c:\\users\\lenovo\\anaconda3\\lib\\site-packages (from ipykernel->jupyter) (23.2.0)\n",
      "Requirement already satisfied: tornado>=6.1 in c:\\users\\lenovo\\anaconda3\\lib\\site-packages (from ipykernel->jupyter) (6.3.2)\n",
      "Requirement already satisfied: traitlets>=5.4.0 in c:\\users\\lenovo\\anaconda3\\lib\\site-packages (from ipykernel->jupyter) (5.7.1)\n",
      "Requirement already satisfied: widgetsnbextension~=4.0 in c:\\users\\lenovo\\anaconda3\\lib\\site-packages (from ipywidgets->jupyter) (4.0.5)\n",
      "Requirement already satisfied: jupyterlab-widgets~=3.0 in c:\\users\\lenovo\\anaconda3\\lib\\site-packages (from ipywidgets->jupyter) (3.0.5)\n",
      "Requirement already satisfied: prompt-toolkit>=3.0.30 in c:\\users\\lenovo\\anaconda3\\lib\\site-packages (from jupyter-console->jupyter) (3.0.36)\n",
      "Requirement already satisfied: pygments in c:\\users\\lenovo\\anaconda3\\lib\\site-packages (from jupyter-console->jupyter) (2.15.1)\n",
      "Requirement already satisfied: jupyterlab-server~=2.19 in c:\\users\\lenovo\\anaconda3\\lib\\site-packages (from jupyterlab->jupyter) (2.22.0)\n",
      "Requirement already satisfied: jupyter-server<3,>=1.16.0 in c:\\users\\lenovo\\anaconda3\\lib\\site-packages (from jupyterlab->jupyter) (1.23.4)\n",
      "Requirement already satisfied: jupyter-ydoc~=0.2.3 in c:\\users\\lenovo\\anaconda3\\lib\\site-packages (from jupyterlab->jupyter) (0.2.4)\n",
      "Requirement already satisfied: jupyter-server-ydoc~=0.8.0 in c:\\users\\lenovo\\anaconda3\\lib\\site-packages (from jupyterlab->jupyter) (0.8.0)\n",
      "Requirement already satisfied: nbclassic in c:\\users\\lenovo\\anaconda3\\lib\\site-packages (from jupyterlab->jupyter) (0.5.5)\n",
      "Requirement already satisfied: jinja2>=2.1 in c:\\users\\lenovo\\anaconda3\\lib\\site-packages (from jupyterlab->jupyter) (3.1.2)\n",
      "Requirement already satisfied: argon2-cffi in c:\\users\\lenovo\\anaconda3\\lib\\site-packages (from notebook->jupyter) (21.3.0)\n",
      "Requirement already satisfied: ipython-genutils in c:\\users\\lenovo\\anaconda3\\lib\\site-packages (from notebook->jupyter) (0.2.0)\n",
      "Requirement already satisfied: nbformat in c:\\users\\lenovo\\anaconda3\\lib\\site-packages (from notebook->jupyter) (5.9.2)\n",
      "Requirement already satisfied: Send2Trash>=1.8.0 in c:\\users\\lenovo\\anaconda3\\lib\\site-packages (from notebook->jupyter) (1.8.0)\n",
      "Requirement already satisfied: terminado>=0.8.3 in c:\\users\\lenovo\\anaconda3\\lib\\site-packages (from notebook->jupyter) (0.17.1)\n",
      "Requirement already satisfied: prometheus-client in c:\\users\\lenovo\\anaconda3\\lib\\site-packages (from notebook->jupyter) (0.14.1)\n",
      "Requirement already satisfied: lxml in c:\\users\\lenovo\\anaconda3\\lib\\site-packages (from nbconvert->jupyter) (4.9.3)\n",
      "Requirement already satisfied: beautifulsoup4 in c:\\users\\lenovo\\anaconda3\\lib\\site-packages (from nbconvert->jupyter) (4.12.2)\n",
      "Requirement already satisfied: bleach in c:\\users\\lenovo\\anaconda3\\lib\\site-packages (from nbconvert->jupyter) (4.1.0)\n",
      "Requirement already satisfied: defusedxml in c:\\users\\lenovo\\anaconda3\\lib\\site-packages (from nbconvert->jupyter) (0.7.1)\n",
      "Requirement already satisfied: entrypoints>=0.2.2 in c:\\users\\lenovo\\anaconda3\\lib\\site-packages (from nbconvert->jupyter) (0.4)\n",
      "Requirement already satisfied: jupyterlab-pygments in c:\\users\\lenovo\\anaconda3\\lib\\site-packages (from nbconvert->jupyter) (0.1.2)\n",
      "Requirement already satisfied: MarkupSafe>=2.0 in c:\\users\\lenovo\\anaconda3\\lib\\site-packages (from nbconvert->jupyter) (2.1.1)\n",
      "Requirement already satisfied: mistune<2,>=0.8.1 in c:\\users\\lenovo\\anaconda3\\lib\\site-packages (from nbconvert->jupyter) (0.8.4)\n",
      "Requirement already satisfied: nbclient>=0.5.0 in c:\\users\\lenovo\\anaconda3\\lib\\site-packages (from nbconvert->jupyter) (0.5.13)\n",
      "Requirement already satisfied: pandocfilters>=1.4.1 in c:\\users\\lenovo\\anaconda3\\lib\\site-packages (from nbconvert->jupyter) (1.5.0)\n",
      "Requirement already satisfied: tinycss2 in c:\\users\\lenovo\\anaconda3\\lib\\site-packages (from nbconvert->jupyter) (1.2.1)\n",
      "Requirement already satisfied: backcall in c:\\users\\lenovo\\anaconda3\\lib\\site-packages (from ipython>=7.23.1->ipykernel->jupyter) (0.2.0)\n",
      "Requirement already satisfied: decorator in c:\\users\\lenovo\\anaconda3\\lib\\site-packages (from ipython>=7.23.1->ipykernel->jupyter) (5.1.1)\n",
      "Requirement already satisfied: jedi>=0.16 in c:\\users\\lenovo\\anaconda3\\lib\\site-packages (from ipython>=7.23.1->ipykernel->jupyter) (0.18.1)\n",
      "Requirement already satisfied: pickleshare in c:\\users\\lenovo\\anaconda3\\lib\\site-packages (from ipython>=7.23.1->ipykernel->jupyter) (0.7.5)\n",
      "Requirement already satisfied: stack-data in c:\\users\\lenovo\\anaconda3\\lib\\site-packages (from ipython>=7.23.1->ipykernel->jupyter) (0.2.0)\n",
      "Requirement already satisfied: colorama in c:\\users\\lenovo\\anaconda3\\lib\\site-packages (from ipython>=7.23.1->ipykernel->jupyter) (0.4.6)\n",
      "Requirement already satisfied: python-dateutil>=2.8.2 in c:\\users\\lenovo\\anaconda3\\lib\\site-packages (from jupyter-client>=6.1.12->ipykernel->jupyter) (2.8.2)\n",
      "Requirement already satisfied: platformdirs>=2.5 in c:\\users\\lenovo\\anaconda3\\lib\\site-packages (from jupyter-core!=5.0.*,>=4.12->ipykernel->jupyter) (3.10.0)\n",
      "Requirement already satisfied: pywin32>=300 in c:\\users\\lenovo\\anaconda3\\lib\\site-packages (from jupyter-core!=5.0.*,>=4.12->ipykernel->jupyter) (305.1)\n",
      "Requirement already satisfied: anyio<4,>=3.1.0 in c:\\users\\lenovo\\anaconda3\\lib\\site-packages (from jupyter-server<3,>=1.16.0->jupyterlab->jupyter) (3.5.0)\n",
      "Requirement already satisfied: websocket-client in c:\\users\\lenovo\\anaconda3\\lib\\site-packages (from jupyter-server<3,>=1.16.0->jupyterlab->jupyter) (0.58.0)\n",
      "Requirement already satisfied: pywinpty in c:\\users\\lenovo\\anaconda3\\lib\\site-packages (from jupyter-server<3,>=1.16.0->jupyterlab->jupyter) (2.0.10)\n",
      "Requirement already satisfied: jupyter-server-fileid<1,>=0.6.0 in c:\\users\\lenovo\\anaconda3\\lib\\site-packages (from jupyter-server-ydoc~=0.8.0->jupyterlab->jupyter) (0.9.0)\n",
      "Requirement already satisfied: ypy-websocket<0.9.0,>=0.8.2 in c:\\users\\lenovo\\anaconda3\\lib\\site-packages (from jupyter-server-ydoc~=0.8.0->jupyterlab->jupyter) (0.8.2)\n",
      "Requirement already satisfied: y-py<0.6.0,>=0.5.3 in c:\\users\\lenovo\\anaconda3\\lib\\site-packages (from jupyter-ydoc~=0.2.3->jupyterlab->jupyter) (0.5.9)\n",
      "Requirement already satisfied: babel>=2.10 in c:\\users\\lenovo\\anaconda3\\lib\\site-packages (from jupyterlab-server~=2.19->jupyterlab->jupyter) (2.11.0)\n",
      "Requirement already satisfied: json5>=0.9.0 in c:\\users\\lenovo\\anaconda3\\lib\\site-packages (from jupyterlab-server~=2.19->jupyterlab->jupyter) (0.9.6)\n",
      "Requirement already satisfied: jsonschema>=4.17.3 in c:\\users\\lenovo\\anaconda3\\lib\\site-packages (from jupyterlab-server~=2.19->jupyterlab->jupyter) (4.17.3)\n",
      "Requirement already satisfied: requests>=2.28 in c:\\users\\lenovo\\anaconda3\\lib\\site-packages (from jupyterlab-server~=2.19->jupyterlab->jupyter) (2.31.0)\n",
      "Requirement already satisfied: notebook-shim>=0.1.0 in c:\\users\\lenovo\\anaconda3\\lib\\site-packages (from nbclassic->jupyterlab->jupyter) (0.2.2)\n",
      "Requirement already satisfied: fastjsonschema in c:\\users\\lenovo\\anaconda3\\lib\\site-packages (from nbformat->notebook->jupyter) (2.16.2)\n",
      "Requirement already satisfied: wcwidth in c:\\users\\lenovo\\anaconda3\\lib\\site-packages (from prompt-toolkit>=3.0.30->jupyter-console->jupyter) (0.2.5)\n",
      "Requirement already satisfied: argon2-cffi-bindings in c:\\users\\lenovo\\anaconda3\\lib\\site-packages (from argon2-cffi->notebook->jupyter) (21.2.0)\n",
      "Requirement already satisfied: soupsieve>1.2 in c:\\users\\lenovo\\anaconda3\\lib\\site-packages (from beautifulsoup4->nbconvert->jupyter) (2.4)\n",
      "Requirement already satisfied: six>=1.9.0 in c:\\users\\lenovo\\anaconda3\\lib\\site-packages (from bleach->nbconvert->jupyter) (1.16.0)\n",
      "Requirement already satisfied: webencodings in c:\\users\\lenovo\\anaconda3\\lib\\site-packages (from bleach->nbconvert->jupyter) (0.5.1)\n",
      "Requirement already satisfied: idna>=2.8 in c:\\users\\lenovo\\anaconda3\\lib\\site-packages (from anyio<4,>=3.1.0->jupyter-server<3,>=1.16.0->jupyterlab->jupyter) (3.4)\n",
      "Requirement already satisfied: sniffio>=1.1 in c:\\users\\lenovo\\anaconda3\\lib\\site-packages (from anyio<4,>=3.1.0->jupyter-server<3,>=1.16.0->jupyterlab->jupyter) (1.2.0)\n",
      "Requirement already satisfied: pytz>=2015.7 in c:\\users\\lenovo\\anaconda3\\lib\\site-packages (from babel>=2.10->jupyterlab-server~=2.19->jupyterlab->jupyter) (2023.3.post1)\n",
      "Requirement already satisfied: parso<0.9.0,>=0.8.0 in c:\\users\\lenovo\\anaconda3\\lib\\site-packages (from jedi>=0.16->ipython>=7.23.1->ipykernel->jupyter) (0.8.3)\n",
      "Requirement already satisfied: attrs>=17.4.0 in c:\\users\\lenovo\\anaconda3\\lib\\site-packages (from jsonschema>=4.17.3->jupyterlab-server~=2.19->jupyterlab->jupyter) (22.1.0)\n",
      "Requirement already satisfied: pyrsistent!=0.17.0,!=0.17.1,!=0.17.2,>=0.14.0 in c:\\users\\lenovo\\anaconda3\\lib\\site-packages (from jsonschema>=4.17.3->jupyterlab-server~=2.19->jupyterlab->jupyter) (0.18.0)\n",
      "Requirement already satisfied: jupyter-events>=0.5.0 in c:\\users\\lenovo\\anaconda3\\lib\\site-packages (from jupyter-server-fileid<1,>=0.6.0->jupyter-server-ydoc~=0.8.0->jupyterlab->jupyter) (0.6.3)\n",
      "Requirement already satisfied: charset-normalizer<4,>=2 in c:\\users\\lenovo\\anaconda3\\lib\\site-packages (from requests>=2.28->jupyterlab-server~=2.19->jupyterlab->jupyter) (2.0.4)\n",
      "Requirement already satisfied: urllib3<3,>=1.21.1 in c:\\users\\lenovo\\anaconda3\\lib\\site-packages (from requests>=2.28->jupyterlab-server~=2.19->jupyterlab->jupyter) (1.26.16)\n",
      "Requirement already satisfied: certifi>=2017.4.17 in c:\\users\\lenovo\\anaconda3\\lib\\site-packages (from requests>=2.28->jupyterlab-server~=2.19->jupyterlab->jupyter) (2024.8.30)\n",
      "Requirement already satisfied: aiofiles<23,>=22.1.0 in c:\\users\\lenovo\\anaconda3\\lib\\site-packages (from ypy-websocket<0.9.0,>=0.8.2->jupyter-server-ydoc~=0.8.0->jupyterlab->jupyter) (22.1.0)\n",
      "Requirement already satisfied: aiosqlite<1,>=0.17.0 in c:\\users\\lenovo\\anaconda3\\lib\\site-packages (from ypy-websocket<0.9.0,>=0.8.2->jupyter-server-ydoc~=0.8.0->jupyterlab->jupyter) (0.18.0)\n",
      "Requirement already satisfied: cffi>=1.0.1 in c:\\users\\lenovo\\anaconda3\\lib\\site-packages (from argon2-cffi-bindings->argon2-cffi->notebook->jupyter) (1.15.1)\n",
      "Requirement already satisfied: executing in c:\\users\\lenovo\\anaconda3\\lib\\site-packages (from stack-data->ipython>=7.23.1->ipykernel->jupyter) (0.8.3)\n",
      "Requirement already satisfied: asttokens in c:\\users\\lenovo\\anaconda3\\lib\\site-packages (from stack-data->ipython>=7.23.1->ipykernel->jupyter) (2.0.5)\n",
      "Requirement already satisfied: pure-eval in c:\\users\\lenovo\\anaconda3\\lib\\site-packages (from stack-data->ipython>=7.23.1->ipykernel->jupyter) (0.2.2)\n",
      "Requirement already satisfied: pycparser in c:\\users\\lenovo\\anaconda3\\lib\\site-packages (from cffi>=1.0.1->argon2-cffi-bindings->argon2-cffi->notebook->jupyter) (2.21)\n",
      "Requirement already satisfied: python-json-logger>=2.0.4 in c:\\users\\lenovo\\anaconda3\\lib\\site-packages (from jupyter-events>=0.5.0->jupyter-server-fileid<1,>=0.6.0->jupyter-server-ydoc~=0.8.0->jupyterlab->jupyter) (2.0.7)\n",
      "Requirement already satisfied: pyyaml>=5.3 in c:\\users\\lenovo\\anaconda3\\lib\\site-packages (from jupyter-events>=0.5.0->jupyter-server-fileid<1,>=0.6.0->jupyter-server-ydoc~=0.8.0->jupyterlab->jupyter) (6.0)\n",
      "Requirement already satisfied: rfc3339-validator in c:\\users\\lenovo\\anaconda3\\lib\\site-packages (from jupyter-events>=0.5.0->jupyter-server-fileid<1,>=0.6.0->jupyter-server-ydoc~=0.8.0->jupyterlab->jupyter) (0.1.4)\n",
      "Requirement already satisfied: rfc3986-validator>=0.1.1 in c:\\users\\lenovo\\anaconda3\\lib\\site-packages (from jupyter-events>=0.5.0->jupyter-server-fileid<1,>=0.6.0->jupyter-server-ydoc~=0.8.0->jupyterlab->jupyter) (0.1.1)\n",
      "Collecting fqdn (from jsonschema>=4.17.3->jupyterlab-server~=2.19->jupyterlab->jupyter)\n",
      "  Obtaining dependency information for fqdn from https://files.pythonhosted.org/packages/cf/58/8acf1b3e91c58313ce5cb67df61001fc9dcd21be4fadb76c1a2d540e09ed/fqdn-1.5.1-py3-none-any.whl.metadata\n",
      "  Downloading fqdn-1.5.1-py3-none-any.whl.metadata (1.4 kB)\n",
      "Collecting isoduration (from jsonschema>=4.17.3->jupyterlab-server~=2.19->jupyterlab->jupyter)\n",
      "  Obtaining dependency information for isoduration from https://files.pythonhosted.org/packages/7b/55/e5326141505c5d5e34c5e0935d2908a74e4561eca44108fbfb9c13d2911a/isoduration-20.11.0-py3-none-any.whl.metadata\n",
      "  Downloading isoduration-20.11.0-py3-none-any.whl.metadata (5.7 kB)\n",
      "Requirement already satisfied: jsonpointer>1.13 in c:\\users\\lenovo\\anaconda3\\lib\\site-packages (from jsonschema>=4.17.3->jupyterlab-server~=2.19->jupyterlab->jupyter) (2.1)\n",
      "Collecting uri-template (from jsonschema>=4.17.3->jupyterlab-server~=2.19->jupyterlab->jupyter)\n",
      "  Obtaining dependency information for uri-template from https://files.pythonhosted.org/packages/e7/00/3fca040d7cf8a32776d3d81a00c8ee7457e00f80c649f1e4a863c8321ae9/uri_template-1.3.0-py3-none-any.whl.metadata\n",
      "  Downloading uri_template-1.3.0-py3-none-any.whl.metadata (8.8 kB)\n",
      "Collecting webcolors>=1.11 (from jsonschema>=4.17.3->jupyterlab-server~=2.19->jupyterlab->jupyter)\n",
      "  Obtaining dependency information for webcolors>=1.11 from https://files.pythonhosted.org/packages/60/e8/c0e05e4684d13459f93d312077a9a2efbe04d59c393bc2b8802248c908d4/webcolors-24.11.1-py3-none-any.whl.metadata\n",
      "  Downloading webcolors-24.11.1-py3-none-any.whl.metadata (2.2 kB)\n",
      "Requirement already satisfied: arrow>=0.15.0 in c:\\users\\lenovo\\anaconda3\\lib\\site-packages (from isoduration->jsonschema>=4.17.3->jupyterlab-server~=2.19->jupyterlab->jupyter) (1.2.3)\n",
      "Downloading jupyter-1.1.1-py2.py3-none-any.whl (2.7 kB)\n",
      "Downloading webcolors-24.11.1-py3-none-any.whl (14 kB)\n",
      "Downloading fqdn-1.5.1-py3-none-any.whl (9.1 kB)\n",
      "Downloading isoduration-20.11.0-py3-none-any.whl (11 kB)\n",
      "Downloading uri_template-1.3.0-py3-none-any.whl (11 kB)\n",
      "Installing collected packages: webcolors, uri-template, fqdn, isoduration, jupyter\n",
      "  Attempting uninstall: jupyter\n",
      "    Found existing installation: jupyter 1.0.0\n",
      "    Uninstalling jupyter-1.0.0:\n",
      "      Successfully uninstalled jupyter-1.0.0\n",
      "Successfully installed fqdn-1.5.1 isoduration-20.11.0 jupyter-1.1.1 uri-template-1.3.0 webcolors-24.11.1\n",
      "Note: you may need to restart the kernel to use updated packages.\n"
     ]
    }
   ],
   "source": [
    "pip install -U jupyter"
   ]
  },
  {
   "cell_type": "code",
   "execution_count": null,
   "id": "dd03342d",
   "metadata": {},
   "outputs": [],
   "source": []
  }
 ],
 "metadata": {
  "kernelspec": {
   "display_name": "Python 3 (ipykernel)",
   "language": "python",
   "name": "python3"
  },
  "language_info": {
   "codemirror_mode": {
    "name": "ipython",
    "version": 3
   },
   "file_extension": ".py",
   "mimetype": "text/x-python",
   "name": "python",
   "nbconvert_exporter": "python",
   "pygments_lexer": "ipython3",
   "version": "3.11.5"
  }
 },
 "nbformat": 4,
 "nbformat_minor": 5
}
